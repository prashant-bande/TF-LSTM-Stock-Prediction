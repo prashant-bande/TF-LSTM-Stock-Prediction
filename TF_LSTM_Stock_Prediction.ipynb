{
  "nbformat": 4,
  "nbformat_minor": 0,
  "metadata": {
    "colab": {
      "name": "TF CNN Stock Prediction.ipynb",
      "version": "0.3.2",
      "provenance": [],
      "collapsed_sections": [],
      "include_colab_link": true
    },
    "kernelspec": {
      "name": "python3",
      "display_name": "Python 3"
    }
  },
  "cells": [
    {
      "cell_type": "markdown",
      "metadata": {
        "id": "view-in-github",
        "colab_type": "text"
      },
      "source": [
        "<a href=\"https://colab.research.google.com/github/prashant-bande/DeepLearningTensorFlow/blob/master/TF_CNN_Stock_Prediction.ipynb\" target=\"_parent\"><img src=\"https://colab.research.google.com/assets/colab-badge.svg\" alt=\"Open In Colab\"/></a>"
      ]
    },
    {
      "cell_type": "code",
      "metadata": {
        "id": "SjGL4qRHKoEt",
        "colab_type": "code",
        "colab": {}
      },
      "source": [
        "# Importing the libraries\n",
        "import numpy as np\n",
        "import matplotlib.pyplot as plt\n",
        "import pandas as pd\n",
        "from pandas_datareader import data"
      ],
      "execution_count": 0,
      "outputs": []
    },
    {
      "cell_type": "code",
      "metadata": {
        "id": "eYVus1T8q23p",
        "colab_type": "code",
        "colab": {}
      },
      "source": [
        "# Importing the training set\n",
        "dataset_train = pd.read_csv('Google_Stock_Price_Train.csv')\n",
        "training_set = dataset_train.iloc[:, 1:2].values"
      ],
      "execution_count": 0,
      "outputs": []
    },
    {
      "cell_type": "code",
      "metadata": {
        "id": "d2Bj9dn8t3Qs",
        "colab_type": "code",
        "colab": {}
      },
      "source": [
        "# Feature Scaling\n",
        "from sklearn.preprocessing import MinMaxScaler\n",
        "sc = MinMaxScaler(feature_range = (0, 1))\n",
        "training_set_scaled = sc.fit_transform(training_set)"
      ],
      "execution_count": 0,
      "outputs": []
    },
    {
      "cell_type": "code",
      "metadata": {
        "id": "B0SW2LIxt3Zf",
        "colab_type": "code",
        "colab": {}
      },
      "source": [
        "# Creating a data structure with 60 timesteps and 1 output\n",
        "X_train = []\n",
        "y_train = []\n",
        "for i in range(60, 1258):\n",
        "    X_train.append(training_set_scaled[i-60:i, 0])\n",
        "    y_train.append(training_set_scaled[i, 0])\n",
        "X_train, y_train = np.array(X_train), np.array(y_train)\n",
        "\n",
        "# Reshaping\n",
        "X_train = np.reshape(X_train, (X_train.shape[0], X_train.shape[1], 1))"
      ],
      "execution_count": 0,
      "outputs": []
    },
    {
      "cell_type": "code",
      "metadata": {
        "id": "YsqQV99Lt3cn",
        "colab_type": "code",
        "colab": {
          "base_uri": "https://localhost:8080/",
          "height": 35
        },
        "outputId": "23c59bc5-5e54-4f22-f8fe-36fa2dfd4f8c"
      },
      "source": [
        "#Building the RNN\n",
        "\n",
        "# Importing the Keras libraries and packages\n",
        "from keras.models import Sequential\n",
        "from keras.layers import Dense\n",
        "from keras.layers import LSTM\n",
        "from keras.layers import Dropout"
      ],
      "execution_count": 5,
      "outputs": [
        {
          "output_type": "stream",
          "text": [
            "Using TensorFlow backend.\n"
          ],
          "name": "stderr"
        }
      ]
    },
    {
      "cell_type": "code",
      "metadata": {
        "id": "TGPaJDu9t3fe",
        "colab_type": "code",
        "outputId": "0030b2fc-a08d-44b5-8437-3e446a8d9afe",
        "colab": {
          "base_uri": "https://localhost:8080/",
          "height": 248
        }
      },
      "source": [
        "# Initialising the RNN\n",
        "regressor = Sequential()\n",
        "\n",
        "# Adding the first LSTM layer and some Dropout regularisation\n",
        "regressor.add(LSTM(units = 50, return_sequences = True, input_shape = (X_train.shape[1], 1)))\n",
        "regressor.add(Dropout(0.2))\n",
        "\n",
        "# Adding a second LSTM layer and some Dropout regularisation\n",
        "regressor.add(LSTM(units = 50, return_sequences = True))\n",
        "regressor.add(Dropout(0.2))\n",
        "\n",
        "# Adding a third LSTM layer and some Dropout regularisation\n",
        "regressor.add(LSTM(units = 50, return_sequences = True))\n",
        "regressor.add(Dropout(0.2))\n",
        "\n",
        "# Adding a fourth LSTM layer and some Dropout regularisation\n",
        "regressor.add(LSTM(units = 50))\n",
        "regressor.add(Dropout(0.2))\n",
        "\n",
        "# Adding the output layer\n",
        "regressor.add(Dense(units = 1))"
      ],
      "execution_count": 6,
      "outputs": [
        {
          "output_type": "stream",
          "text": [
            "WARNING: Logging before flag parsing goes to stderr.\n",
            "W0715 15:12:43.790155 140525781538688 deprecation_wrapper.py:119] From /usr/local/lib/python3.6/dist-packages/keras/backend/tensorflow_backend.py:74: The name tf.get_default_graph is deprecated. Please use tf.compat.v1.get_default_graph instead.\n",
            "\n",
            "W0715 15:12:43.811039 140525781538688 deprecation_wrapper.py:119] From /usr/local/lib/python3.6/dist-packages/keras/backend/tensorflow_backend.py:517: The name tf.placeholder is deprecated. Please use tf.compat.v1.placeholder instead.\n",
            "\n",
            "W0715 15:12:43.816795 140525781538688 deprecation_wrapper.py:119] From /usr/local/lib/python3.6/dist-packages/keras/backend/tensorflow_backend.py:4138: The name tf.random_uniform is deprecated. Please use tf.random.uniform instead.\n",
            "\n",
            "W0715 15:12:44.036586 140525781538688 deprecation_wrapper.py:119] From /usr/local/lib/python3.6/dist-packages/keras/backend/tensorflow_backend.py:133: The name tf.placeholder_with_default is deprecated. Please use tf.compat.v1.placeholder_with_default instead.\n",
            "\n",
            "W0715 15:12:44.048457 140525781538688 deprecation.py:506] From /usr/local/lib/python3.6/dist-packages/keras/backend/tensorflow_backend.py:3445: calling dropout (from tensorflow.python.ops.nn_ops) with keep_prob is deprecated and will be removed in a future version.\n",
            "Instructions for updating:\n",
            "Please use `rate` instead of `keep_prob`. Rate should be set to `rate = 1 - keep_prob`.\n"
          ],
          "name": "stderr"
        }
      ]
    },
    {
      "cell_type": "code",
      "metadata": {
        "id": "IyoSLoQ1t3iK",
        "colab_type": "code",
        "colab": {
          "base_uri": "https://localhost:8080/",
          "height": 72
        },
        "outputId": "cd65a4e5-5ceb-42da-a90e-dc68106382af"
      },
      "source": [
        "# Compiling the RNN\n",
        "regressor.compile(optimizer = 'adam', loss = 'mean_squared_error')"
      ],
      "execution_count": 7,
      "outputs": [
        {
          "output_type": "stream",
          "text": [
            "W0715 15:12:44.761019 140525781538688 deprecation_wrapper.py:119] From /usr/local/lib/python3.6/dist-packages/keras/optimizers.py:790: The name tf.train.Optimizer is deprecated. Please use tf.compat.v1.train.Optimizer instead.\n",
            "\n"
          ],
          "name": "stderr"
        }
      ]
    },
    {
      "cell_type": "code",
      "metadata": {
        "id": "Kb749R7sLjiS",
        "colab_type": "code",
        "colab": {
          "base_uri": "https://localhost:8080/",
          "height": 1000
        },
        "outputId": "d890bce9-edcb-4afa-9e13-6b1d3ce4de0f"
      },
      "source": [
        "# Fitting the RNN to the Training set\n",
        "regressor.fit(X_train, y_train, epochs = 100, batch_size = 32)"
      ],
      "execution_count": 8,
      "outputs": [
        {
          "output_type": "stream",
          "text": [
            "W0715 15:12:45.239387 140525781538688 deprecation.py:323] From /usr/local/lib/python3.6/dist-packages/tensorflow/python/ops/math_grad.py:1250: add_dispatch_support.<locals>.wrapper (from tensorflow.python.ops.array_ops) is deprecated and will be removed in a future version.\n",
            "Instructions for updating:\n",
            "Use tf.where in 2.0, which has the same broadcast rule as np.where\n",
            "W0715 15:12:47.812273 140525781538688 deprecation_wrapper.py:119] From /usr/local/lib/python3.6/dist-packages/keras/backend/tensorflow_backend.py:986: The name tf.assign_add is deprecated. Please use tf.compat.v1.assign_add instead.\n",
            "\n"
          ],
          "name": "stderr"
        },
        {
          "output_type": "stream",
          "text": [
            "Epoch 1/100\n",
            "1198/1198 [==============================] - 9s 8ms/step - loss: 0.0540\n",
            "Epoch 2/100\n",
            "1198/1198 [==============================] - 6s 5ms/step - loss: 0.0059\n",
            "Epoch 3/100\n",
            "1198/1198 [==============================] - 6s 5ms/step - loss: 0.0058\n",
            "Epoch 4/100\n",
            "1198/1198 [==============================] - 6s 5ms/step - loss: 0.0056\n",
            "Epoch 5/100\n",
            "1198/1198 [==============================] - 6s 5ms/step - loss: 0.0050\n",
            "Epoch 6/100\n",
            "1198/1198 [==============================] - 6s 5ms/step - loss: 0.0050\n",
            "Epoch 7/100\n",
            "1198/1198 [==============================] - 6s 5ms/step - loss: 0.0050\n",
            "Epoch 8/100\n",
            "1198/1198 [==============================] - 6s 5ms/step - loss: 0.0042\n",
            "Epoch 9/100\n",
            "1198/1198 [==============================] - 6s 5ms/step - loss: 0.0046\n",
            "Epoch 10/100\n",
            "1198/1198 [==============================] - 6s 5ms/step - loss: 0.0044\n",
            "Epoch 11/100\n",
            "1198/1198 [==============================] - 6s 5ms/step - loss: 0.0044\n",
            "Epoch 12/100\n",
            "1198/1198 [==============================] - 6s 5ms/step - loss: 0.0057\n",
            "Epoch 13/100\n",
            "1198/1198 [==============================] - 6s 5ms/step - loss: 0.0048\n",
            "Epoch 14/100\n",
            "1198/1198 [==============================] - 6s 5ms/step - loss: 0.0045\n",
            "Epoch 15/100\n",
            "1198/1198 [==============================] - 6s 5ms/step - loss: 0.0042\n",
            "Epoch 16/100\n",
            "1198/1198 [==============================] - 6s 5ms/step - loss: 0.0040\n",
            "Epoch 17/100\n",
            "1198/1198 [==============================] - 6s 5ms/step - loss: 0.0040\n",
            "Epoch 18/100\n",
            "1198/1198 [==============================] - 6s 5ms/step - loss: 0.0033\n",
            "Epoch 19/100\n",
            "1198/1198 [==============================] - 6s 5ms/step - loss: 0.0038\n",
            "Epoch 20/100\n",
            "1198/1198 [==============================] - 6s 5ms/step - loss: 0.0031\n",
            "Epoch 21/100\n",
            "1198/1198 [==============================] - 6s 5ms/step - loss: 0.0033\n",
            "Epoch 22/100\n",
            "1198/1198 [==============================] - 6s 5ms/step - loss: 0.0033\n",
            "Epoch 23/100\n",
            "1198/1198 [==============================] - 6s 5ms/step - loss: 0.0034\n",
            "Epoch 24/100\n",
            "1198/1198 [==============================] - 6s 5ms/step - loss: 0.0033\n",
            "Epoch 25/100\n",
            "1198/1198 [==============================] - 6s 5ms/step - loss: 0.0032\n",
            "Epoch 26/100\n",
            "1198/1198 [==============================] - 6s 5ms/step - loss: 0.0029\n",
            "Epoch 27/100\n",
            "1198/1198 [==============================] - 6s 5ms/step - loss: 0.0031\n",
            "Epoch 28/100\n",
            "1198/1198 [==============================] - 6s 5ms/step - loss: 0.0030\n",
            "Epoch 29/100\n",
            "1198/1198 [==============================] - 6s 5ms/step - loss: 0.0028\n",
            "Epoch 30/100\n",
            "1198/1198 [==============================] - 6s 5ms/step - loss: 0.0030\n",
            "Epoch 31/100\n",
            "1198/1198 [==============================] - 6s 5ms/step - loss: 0.0028\n",
            "Epoch 32/100\n",
            "1198/1198 [==============================] - 6s 5ms/step - loss: 0.0032\n",
            "Epoch 33/100\n",
            "1198/1198 [==============================] - 6s 5ms/step - loss: 0.0027\n",
            "Epoch 34/100\n",
            "1198/1198 [==============================] - 6s 5ms/step - loss: 0.0027\n",
            "Epoch 35/100\n",
            "1198/1198 [==============================] - 6s 5ms/step - loss: 0.0031\n",
            "Epoch 36/100\n",
            "1198/1198 [==============================] - 7s 5ms/step - loss: 0.0030\n",
            "Epoch 37/100\n",
            "1198/1198 [==============================] - 7s 5ms/step - loss: 0.0030\n",
            "Epoch 38/100\n",
            "1198/1198 [==============================] - 7s 5ms/step - loss: 0.0027\n",
            "Epoch 39/100\n",
            "1198/1198 [==============================] - 6s 5ms/step - loss: 0.0027\n",
            "Epoch 40/100\n",
            "1198/1198 [==============================] - 6s 5ms/step - loss: 0.0028\n",
            "Epoch 41/100\n",
            "1198/1198 [==============================] - 6s 5ms/step - loss: 0.0024\n",
            "Epoch 42/100\n",
            "1198/1198 [==============================] - 6s 5ms/step - loss: 0.0027\n",
            "Epoch 43/100\n",
            "1198/1198 [==============================] - 6s 5ms/step - loss: 0.0024\n",
            "Epoch 44/100\n",
            "1198/1198 [==============================] - 6s 5ms/step - loss: 0.0026\n",
            "Epoch 45/100\n",
            "1198/1198 [==============================] - 6s 5ms/step - loss: 0.0027\n",
            "Epoch 46/100\n",
            "1198/1198 [==============================] - 6s 5ms/step - loss: 0.0023\n",
            "Epoch 47/100\n",
            "1198/1198 [==============================] - 6s 5ms/step - loss: 0.0023\n",
            "Epoch 48/100\n",
            "1198/1198 [==============================] - 6s 5ms/step - loss: 0.0024\n",
            "Epoch 49/100\n",
            "1198/1198 [==============================] - 6s 5ms/step - loss: 0.0027\n",
            "Epoch 50/100\n",
            "1198/1198 [==============================] - 6s 5ms/step - loss: 0.0026\n",
            "Epoch 51/100\n",
            "1198/1198 [==============================] - 6s 5ms/step - loss: 0.0024\n",
            "Epoch 52/100\n",
            "1198/1198 [==============================] - 6s 5ms/step - loss: 0.0022\n",
            "Epoch 53/100\n",
            "1198/1198 [==============================] - 6s 5ms/step - loss: 0.0023\n",
            "Epoch 54/100\n",
            "1198/1198 [==============================] - 6s 5ms/step - loss: 0.0023\n",
            "Epoch 55/100\n",
            "1198/1198 [==============================] - 6s 5ms/step - loss: 0.0023\n",
            "Epoch 56/100\n",
            "1198/1198 [==============================] - 6s 5ms/step - loss: 0.0022\n",
            "Epoch 57/100\n",
            "1198/1198 [==============================] - 6s 5ms/step - loss: 0.0021\n",
            "Epoch 58/100\n",
            "1198/1198 [==============================] - 6s 5ms/step - loss: 0.0021\n",
            "Epoch 59/100\n",
            "1198/1198 [==============================] - 6s 5ms/step - loss: 0.0021\n",
            "Epoch 60/100\n",
            "1198/1198 [==============================] - 6s 5ms/step - loss: 0.0020\n",
            "Epoch 61/100\n",
            "1198/1198 [==============================] - 6s 5ms/step - loss: 0.0020\n",
            "Epoch 62/100\n",
            "1198/1198 [==============================] - 6s 5ms/step - loss: 0.0021\n",
            "Epoch 63/100\n",
            "1198/1198 [==============================] - 6s 5ms/step - loss: 0.0020\n",
            "Epoch 64/100\n",
            "1198/1198 [==============================] - 6s 5ms/step - loss: 0.0020\n",
            "Epoch 65/100\n",
            "1198/1198 [==============================] - 6s 5ms/step - loss: 0.0023\n",
            "Epoch 66/100\n",
            "1198/1198 [==============================] - 6s 5ms/step - loss: 0.0026\n",
            "Epoch 67/100\n",
            "1198/1198 [==============================] - 6s 5ms/step - loss: 0.0021\n",
            "Epoch 68/100\n",
            "1198/1198 [==============================] - 6s 5ms/step - loss: 0.0019\n",
            "Epoch 69/100\n",
            "1198/1198 [==============================] - 6s 5ms/step - loss: 0.0021\n",
            "Epoch 70/100\n",
            "1198/1198 [==============================] - 6s 5ms/step - loss: 0.0018\n",
            "Epoch 71/100\n",
            "1198/1198 [==============================] - 6s 5ms/step - loss: 0.0020\n",
            "Epoch 72/100\n",
            "1198/1198 [==============================] - 6s 5ms/step - loss: 0.0019\n",
            "Epoch 73/100\n",
            "1198/1198 [==============================] - 6s 5ms/step - loss: 0.0020\n",
            "Epoch 74/100\n",
            "1198/1198 [==============================] - 6s 5ms/step - loss: 0.0018\n",
            "Epoch 75/100\n",
            "1198/1198 [==============================] - 6s 5ms/step - loss: 0.0018\n",
            "Epoch 76/100\n",
            "1198/1198 [==============================] - 6s 5ms/step - loss: 0.0020\n",
            "Epoch 77/100\n",
            "1198/1198 [==============================] - 6s 5ms/step - loss: 0.0019\n",
            "Epoch 78/100\n",
            "1198/1198 [==============================] - 6s 5ms/step - loss: 0.0019\n",
            "Epoch 79/100\n",
            "1198/1198 [==============================] - 6s 5ms/step - loss: 0.0017\n",
            "Epoch 80/100\n",
            "1198/1198 [==============================] - 6s 5ms/step - loss: 0.0017\n",
            "Epoch 81/100\n",
            "1198/1198 [==============================] - 6s 5ms/step - loss: 0.0016\n",
            "Epoch 82/100\n",
            "1198/1198 [==============================] - 6s 5ms/step - loss: 0.0019\n",
            "Epoch 83/100\n",
            "1198/1198 [==============================] - 6s 5ms/step - loss: 0.0018\n",
            "Epoch 84/100\n",
            "1198/1198 [==============================] - 6s 5ms/step - loss: 0.0016\n",
            "Epoch 85/100\n",
            "1198/1198 [==============================] - 6s 5ms/step - loss: 0.0017\n",
            "Epoch 86/100\n",
            "1198/1198 [==============================] - 6s 5ms/step - loss: 0.0017\n",
            "Epoch 87/100\n",
            "1198/1198 [==============================] - 6s 5ms/step - loss: 0.0015\n",
            "Epoch 88/100\n",
            "1198/1198 [==============================] - 6s 5ms/step - loss: 0.0015\n",
            "Epoch 89/100\n",
            "1198/1198 [==============================] - 6s 5ms/step - loss: 0.0015\n",
            "Epoch 90/100\n",
            "1198/1198 [==============================] - 6s 5ms/step - loss: 0.0015\n",
            "Epoch 91/100\n",
            "1198/1198 [==============================] - 6s 5ms/step - loss: 0.0016\n",
            "Epoch 92/100\n",
            "1198/1198 [==============================] - 6s 5ms/step - loss: 0.0016\n",
            "Epoch 93/100\n",
            "1198/1198 [==============================] - 6s 5ms/step - loss: 0.0017\n",
            "Epoch 94/100\n",
            "1198/1198 [==============================] - 6s 5ms/step - loss: 0.0017\n",
            "Epoch 95/100\n",
            "1198/1198 [==============================] - 6s 5ms/step - loss: 0.0015\n",
            "Epoch 96/100\n",
            "1198/1198 [==============================] - 6s 5ms/step - loss: 0.0015\n",
            "Epoch 97/100\n",
            "1198/1198 [==============================] - 6s 5ms/step - loss: 0.0018\n",
            "Epoch 98/100\n",
            "1198/1198 [==============================] - 6s 5ms/step - loss: 0.0017\n",
            "Epoch 99/100\n",
            "1198/1198 [==============================] - 6s 5ms/step - loss: 0.0016\n",
            "Epoch 100/100\n",
            "1198/1198 [==============================] - 6s 5ms/step - loss: 0.0017\n"
          ],
          "name": "stdout"
        },
        {
          "output_type": "execute_result",
          "data": {
            "text/plain": [
              "<keras.callbacks.History at 0x7fce74189e80>"
            ]
          },
          "metadata": {
            "tags": []
          },
          "execution_count": 8
        }
      ]
    },
    {
      "cell_type": "code",
      "metadata": {
        "id": "w2S2ZvPCLjlA",
        "colab_type": "code",
        "colab": {}
      },
      "source": [
        "# Making the predictions and visualising the results\n",
        "\n",
        "# Getting the real stock price of 2017\n",
        "dataset_test = pd.read_csv('Google_Stock_Price_Test.csv')\n",
        "real_stock_price = dataset_test.iloc[:, 1:2].values\n",
        "\n",
        "# Getting the predicted stock price of 2017\n",
        "dataset_total = pd.concat((dataset_train['Open'], dataset_test['Open']), axis = 0)\n",
        "inputs = dataset_total[len(dataset_total) - len(dataset_test) - 60:].values\n",
        "inputs = inputs.reshape(-1,1)\n",
        "inputs = sc.transform(inputs)\n",
        "X_test = []\n",
        "for i in range(60, 80):\n",
        "    X_test.append(inputs[i-60:i, 0])\n",
        "X_test = np.array(X_test)\n",
        "X_test = np.reshape(X_test, (X_test.shape[0], X_test.shape[1], 1))\n",
        "predicted_stock_price = regressor.predict(X_test)\n",
        "predicted_stock_price = sc.inverse_transform(predicted_stock_price)"
      ],
      "execution_count": 0,
      "outputs": []
    },
    {
      "cell_type": "code",
      "metadata": {
        "id": "oSfqysqBLjrb",
        "colab_type": "code",
        "colab": {
          "base_uri": "https://localhost:8080/",
          "height": 295
        },
        "outputId": "9f90d799-a9ae-4f70-bba8-ecc2d32c2462"
      },
      "source": [
        "# Visualising the results\n",
        "plt.plot(real_stock_price, color = 'red', label = 'Real Google Stock Price')\n",
        "plt.plot(predicted_stock_price, color = 'blue', label = 'Predicted Google Stock Price')\n",
        "plt.title('Google Stock Price Prediction')\n",
        "plt.xlabel('Time')\n",
        "plt.ylabel('Google Stock Price')\n",
        "plt.legend()\n",
        "plt.show()"
      ],
      "execution_count": 10,
      "outputs": [
        {
          "output_type": "display_data",
          "data": {
            "image/png": "[encoded data removed]",
            "text/plain": [
              "<Figure size 432x288 with 1 Axes>"
            ]
          },
          "metadata": {
            "tags": []
          }
        }
      ]
    }
  ]
}
